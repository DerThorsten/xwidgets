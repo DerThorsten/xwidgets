{
  "cells": [
    {
      "cell_type": "code",
      "execution_count": null,
      "metadata": {},
      "outputs": [],
      "source": [
        "#include \"xwidgets/xhtml.hpp\"\n",
        "\n",
        "#include \"xleaflet/xmap.hpp\"\n",
        "#include \"xleaflet/xmarker.hpp\"\n",
        "\n",
        "auto html = xw::html::initialize()\n",
        "    .value(\"Hello from an <b>xwidget</b> in an <b>xmarker</b>!\")\n",
        "    .finalize();\n",
        "\n",
        "std::array<double, 2> center = {52.204793, 360.121558};\n",
        "\n",
        "auto map = xlf::map::initialize()\n",
        "    .center(center)\n",
        "    .zoom(15)\n",
        "    .finalize();\n",
        "\n",
        "auto marker = xlf::marker::initialize()\n",
        "    .location(center)\n",
        "    .draggable(false)\n",
        "    .popup(html)\n",
        "    .finalize();\n",
        "map.add_layer(marker);\n",
        "\n",
        "map"
      ]
    }
  ],
  "metadata": {
    "kernelspec": {
      "display_name": "C++14",
      "language": "C++14",
      "name": "xeus-cling-cpp14"
    },
    "language_info": {
      "version": "14",
      "codemirror_mode": "text/x-c++src",
      "file_extension": ".cpp",
      "mimetype": "text/x-c++src",
      "name": "c++"
    }
  },
  "nbformat": 4,
  "nbformat_minor": 2
}
